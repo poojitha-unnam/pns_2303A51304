{
  "nbformat": 4,
  "nbformat_minor": 0,
  "metadata": {
    "colab": {
      "provenance": [],
      "authorship_tag": "ABX9TyO1O+4YAgpIpRi69AuXTM5y",
      "include_colab_link": true
    },
    "kernelspec": {
      "name": "python3",
      "display_name": "Python 3"
    },
    "language_info": {
      "name": "python"
    }
  },
  "cells": [
    {
      "cell_type": "markdown",
      "metadata": {
        "id": "view-in-github",
        "colab_type": "text"
      },
      "source": [
        "<a href=\"https://colab.research.google.com/github/poojitha-unnam/pns_2303A51304/blob/main/Lab3_pns.ipynb\" target=\"_parent\"><img src=\"https://colab.research.google.com/assets/colab-badge.svg\" alt=\"Open In Colab\"/></a>"
      ]
    },
    {
      "cell_type": "markdown",
      "source": [
        "#Question 1: Ungrouped Data\n",
        "#Given the ungrouped dataset below, calculate the median and mode:\n",
        "#Dataset: [12, 45, 67, 23, 45, 89, 45, 12, 33, 67, 67, 78, 45, 23, 23, 56, 89, 45, 33, 45]\n",
        "##Tasks:\n",
        "##1. Compute the median and mode using numpy.\n",
        "##2. Compute the mode using pandas"
      ],
      "metadata": {
        "id": "bVcqL0se7YtC"
      }
    },
    {
      "cell_type": "code",
      "source": [
        "import numpy as np\n",
        "import pandas as pd\n"
      ],
      "metadata": {
        "id": "vNY8yrZ47kgA"
      },
      "execution_count": 1,
      "outputs": []
    },
    {
      "cell_type": "code",
      "source": [
        "data= [12, 45, 67, 23, 45, 89, 45, 12, 33, 67, 67, 78, 45, 23, 23, 56, 89, 45, 33, 45]"
      ],
      "metadata": {
        "id": "HLHrea-Z7y_R"
      },
      "execution_count": 6,
      "outputs": []
    },
    {
      "cell_type": "code",
      "source": [
        "median_numpy = np.median(data)\n",
        "print(\"Median (numpy):\", median_numpy)"
      ],
      "metadata": {
        "colab": {
          "base_uri": "https://localhost:8080/"
        },
        "id": "MToP3D7U8QH7",
        "outputId": "714bb852-79dd-43e1-bb52-d3fc687686a2"
      },
      "execution_count": 8,
      "outputs": [
        {
          "output_type": "stream",
          "name": "stdout",
          "text": [
            "Median (numpy): 45.0\n"
          ]
        }
      ]
    },
    {
      "cell_type": "code",
      "source": [
        "mode_numpy = np.argmax(np.bincount(data))\n",
        "print(\"Mode (numpy):\", mode_numpy)"
      ],
      "metadata": {
        "colab": {
          "base_uri": "https://localhost:8080/"
        },
        "id": "2fE_UcDS86nB",
        "outputId": "f45cda70-e78a-429f-f9b6-ec10e47b0fb6"
      },
      "execution_count": 11,
      "outputs": [
        {
          "output_type": "stream",
          "name": "stdout",
          "text": [
            "Mode (numpy): 45\n"
          ]
        }
      ]
    },
    {
      "cell_type": "code",
      "source": [
        "mode_pandas = pd.Series(data).mode()[0]\n",
        "print(\"mode using pandas\",mode_pandas)"
      ],
      "metadata": {
        "colab": {
          "base_uri": "https://localhost:8080/"
        },
        "id": "l7hDKEPQ9D50",
        "outputId": "5d1582d1-1cfe-4208-ccd1-2d36bc9d537c"
      },
      "execution_count": 12,
      "outputs": [
        {
          "output_type": "stream",
          "name": "stdout",
          "text": [
            "mode using pandas 45\n"
          ]
        }
      ]
    },
    {
      "cell_type": "markdown",
      "source": [
        "#Question 2: Grouped Data\n",
        "#The following data shows the frequency of scores in a test:\n",
        "#Score Frequency\n",
        "#10 5\n",
        "#20 8\n",
        "#30 12\n",
        "#40 15\n",
        "#50 7\n",
        "#Tasks:\n",
        "##1. Compute the median and mode using numpy.\n",
        "##2. Compute the mode using pandas."
      ],
      "metadata": {
        "id": "AIs471Mq9zor"
      }
    },
    {
      "cell_type": "code",
      "source": [
        "Score=[10,20,30,40,50]\n",
        "Frequency=[5,8,12,15,7]"
      ],
      "metadata": {
        "id": "x2mMcKFw-blS"
      },
      "execution_count": 13,
      "outputs": []
    },
    {
      "cell_type": "code",
      "source": [
        "df = pd.DataFrame({'Score': Score, 'Frequency': Frequency})\n",
        "median = np.median(df['Score'])\n",
        "print(\"median using numpy\",median)"
      ],
      "metadata": {
        "colab": {
          "base_uri": "https://localhost:8080/"
        },
        "id": "sqilGYnF-sz0",
        "outputId": "ba98b20c-839f-4ba1-f966-f3913d9d2433"
      },
      "execution_count": 18,
      "outputs": [
        {
          "output_type": "stream",
          "name": "stdout",
          "text": [
            "median using numpy 30.0\n"
          ]
        }
      ]
    },
    {
      "cell_type": "code",
      "source": [
        "mode = df['Score'].mode()[0]\n",
        "print(\"mode using numpy\",mode)"
      ],
      "metadata": {
        "colab": {
          "base_uri": "https://localhost:8080/"
        },
        "id": "fCpUcKT8_iTx",
        "outputId": "61c84abb-4eb2-429b-cca1-9113d169c4c6"
      },
      "execution_count": 20,
      "outputs": [
        {
          "output_type": "stream",
          "name": "stdout",
          "text": [
            "mode using numpy 10\n"
          ]
        }
      ]
    },
    {
      "cell_type": "markdown",
      "source": [
        "##Question 3: Grouped Data\n",
        "##The following data represents a frequency distribution with class intervals:\n",
        "##Class Interval Frequency\n",
        "##0 - 10 4\n",
        "##10 - 20 6\n",
        "##20 - 30 10\n",
        "##30 - 40 8\n",
        "##40 - 50 2\n",
        "##Tasks:\n",
        "##1. Use the class intervals and frequencies to compute the median and mode.\n",
        "##2. Approximate the median and mode using formulas for grouped data."
      ],
      "metadata": {
        "id": "_3j7USp-BLIK"
      }
    },
    {
      "cell_type": "code",
      "source": [
        "import pandas as pd\n",
        "import numpy as np\n",
        "\n",
        "class_intervals = [(0, 10), (10,20), (20,30), (30,40),(40,50)]\n",
        "frequencies = [4,6,10,8,2]\n",
        "df = pd.DataFrame({'Class': class_intervals, 'Frequency':frequencies})\n",
        "df['Cumulative Frequency'] = df['Frequency'].cumsum()\n",
        "\n",
        "median = np.median(df['Class'])\n",
        "\n",
        "mode = df['Class'].mode()[0]\n",
        "mode = df['Class'].mode()[0]\n",
        "print(f\"Median: {median}\")\n",
        "print(f\"Mode: {mode}\")"
      ],
      "metadata": {
        "colab": {
          "base_uri": "https://localhost:8080/"
        },
        "id": "tgiBAb8WBvwy",
        "outputId": "6bd2401e-faf4-4f40-c5e4-ac7466474fbd"
      },
      "execution_count": 21,
      "outputs": [
        {
          "output_type": "stream",
          "name": "stdout",
          "text": [
            "Median: [20. 30.]\n",
            "Mode: (0, 10)\n"
          ]
        }
      ]
    }
  ]
}