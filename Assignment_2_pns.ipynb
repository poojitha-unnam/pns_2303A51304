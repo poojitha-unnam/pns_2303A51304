{
  "nbformat": 4,
  "nbformat_minor": 0,
  "metadata": {
    "colab": {
      "provenance": [],
      "authorship_tag": "ABX9TyMZuRtTIdrmvm6pVTdxh0Hc",
      "include_colab_link": true
    },
    "kernelspec": {
      "name": "python3",
      "display_name": "Python 3"
    },
    "language_info": {
      "name": "python"
    }
  },
  "cells": [
    {
      "cell_type": "markdown",
      "metadata": {
        "id": "view-in-github",
        "colab_type": "text"
      },
      "source": [
        "<a href=\"https://colab.research.google.com/github/poojitha-unnam/pns_2303A51304/blob/main/Assignment_2_pns.ipynb\" target=\"_parent\"><img src=\"https://colab.research.google.com/assets/colab-badge.svg\" alt=\"Open In Colab\"/></a>"
      ]
    },
    {
      "cell_type": "markdown",
      "source": [
        "#Question 1: Ungrouped Data\n",
        "##The dataset below represents the ages of 500 people in a city:\n",
        "Data (Ages):\n",
        "Data: [45, 67, 89, 23, 45, 67, 89, 34, 56, 78, 90, 21, 45, 67, 89, 23, 45,\n",
        "56, 78, 34, 23, 45, 67, 89, 45, 67, 89, 12, 34, 56, 78, 90, 23, 45,\n",
        "67, 12, 34, 78, 45, 67, 89, 34, 56, 78, 90, 23, 56, 78, 89, 45, 12,\n",
        "67, 45, 78, 23, 45, 67, 89, 34, 45, 23, 78, 67, 89, 45, 67, 89, 12,\n",
        "34, 56, 78, 90, 23, 12, 34, 56, 78, 23, 45, 67, 89, 34, 45, 23, 45,\n",
        "67, 89, 12, 34, 56, 78, 90, 45, 23].\n",
        "##• Use numpy and pandas to calculate the median and mode of the dataset.\n",
        "##• Comment on the efficiency of your approach"
      ],
      "metadata": {
        "id": "kKXjie4CBJKD"
      }
    },
    {
      "cell_type": "code",
      "execution_count": null,
      "metadata": {
        "id": "nLiFCfWgATn8"
      },
      "outputs": [],
      "source": [
        "import numpy as np\n",
        "import pandas as pd"
      ]
    },
    {
      "cell_type": "code",
      "source": [
        "Data= [45, 67, 89, 23, 45, 67, 89, 34, 56, 78, 90, 21, 45, 67, 89, 23, 45,\n",
        "56, 78, 34, 23, 45, 67, 89, 45, 67, 89, 12, 34, 56, 78, 90, 23, 45,\n",
        "67, 12, 34, 78, 45, 67, 89, 34, 56, 78, 90, 23, 56, 78, 89, 45, 12,\n",
        "67, 45, 78, 23, 45, 67, 89, 34, 45, 23, 78, 67, 89, 45, 67, 89, 12,\n",
        "34, 56, 78, 90, 23, 12, 34, 56, 78, 23, 45, 67, 89, 34, 45, 23, 45,\n",
        "67, 89, 12, 34, 56, 78, 90, 45, 23]"
      ],
      "metadata": {
        "id": "65Q-sxCgDBAp"
      },
      "execution_count": null,
      "outputs": []
    },
    {
      "cell_type": "code",
      "source": [
        "sum(Data)"
      ],
      "metadata": {
        "colab": {
          "base_uri": "https://localhost:8080/"
        },
        "id": "6Dh_rdYcDCpc",
        "outputId": "97e660c8-633f-4b31-d8ce-fe5bc5099538"
      },
      "execution_count": null,
      "outputs": [
        {
          "output_type": "execute_result",
          "data": {
            "text/plain": [
              "5146"
            ]
          },
          "metadata": {},
          "execution_count": 10
        }
      ]
    },
    {
      "cell_type": "code",
      "source": [
        "len(Data)"
      ],
      "metadata": {
        "colab": {
          "base_uri": "https://localhost:8080/"
        },
        "id": "1ToGaS5-DJTR",
        "outputId": "797d2c52-78ae-43a9-9bf6-053503407f58"
      },
      "execution_count": null,
      "outputs": [
        {
          "output_type": "execute_result",
          "data": {
            "text/plain": [
              "94"
            ]
          },
          "metadata": {},
          "execution_count": 11
        }
      ]
    },
    {
      "cell_type": "code",
      "source": [
        "mean=sum(Data)/len(Data)"
      ],
      "metadata": {
        "id": "q-2rLvtWDLph"
      },
      "execution_count": null,
      "outputs": []
    },
    {
      "cell_type": "code",
      "source": [
        "print(mean)"
      ],
      "metadata": {
        "colab": {
          "base_uri": "https://localhost:8080/"
        },
        "id": "rKzUxIpcDTES",
        "outputId": "ed0c5401-9b3a-4c2f-e124-3450743209b7"
      },
      "execution_count": null,
      "outputs": [
        {
          "output_type": "stream",
          "name": "stdout",
          "text": [
            "54.744680851063826\n"
          ]
        }
      ]
    },
    {
      "cell_type": "markdown",
      "source": [
        "#Question 2: Grouped Data\n",
        "##The table below represents the scores of 2000 students in an exam and their corresponding frequencies:\n",
        "##Scores (X): [10, 20, 30, 40, 50, 60, 70, 80, 90, 100]\n",
        "##Frequency (F): [200, 350, 400, 300, 250, 200, 150, 80, 50, 20]\n",
        "##• Use pandas to calculate the median and mode of this grouped data.\n",
        "##• Write a Python function to handle grouped data calculations efficiently for large datasets."
      ],
      "metadata": {
        "id": "sgt_Ytb3Ds3j"
      }
    },
    {
      "cell_type": "code",
      "source": [
        "import numpy as np\n",
        "import pandas as pd"
      ],
      "metadata": {
        "id": "_CHWFeiiENYk"
      },
      "execution_count": null,
      "outputs": []
    },
    {
      "cell_type": "code",
      "source": [
        "Scores= [10, 20, 30, 40, 50, 60, 70, 80, 90, 100]\n",
        "Frequency= [200, 350, 400, 300, 250, 200, 150, 80, 50, 20]"
      ],
      "metadata": {
        "id": "voglcc2ZD6pF"
      },
      "execution_count": null,
      "outputs": []
    },
    {
      "cell_type": "code",
      "source": [
        "sum_fx=sum(Frequency*Scores for Frequency,Scores in zip(Frequency,Scores))"
      ],
      "metadata": {
        "id": "Kn9fKd-kEm_G"
      },
      "execution_count": null,
      "outputs": []
    },
    {
      "cell_type": "code",
      "source": [
        "sum_f=sum(Frequency)"
      ],
      "metadata": {
        "id": "KQDMfw68Fc2j"
      },
      "execution_count": null,
      "outputs": []
    },
    {
      "cell_type": "code",
      "source": [
        "mean=sum_fx/sum_f"
      ],
      "metadata": {
        "id": "yxAeGvLyFkOo"
      },
      "execution_count": null,
      "outputs": []
    },
    {
      "cell_type": "code",
      "source": [
        "print(mean)"
      ],
      "metadata": {
        "colab": {
          "base_uri": "https://localhost:8080/"
        },
        "id": "cQdjikdOFpvB",
        "outputId": "e16d443c-470f-4ce8-c25e-2ad08ba3aa08"
      },
      "execution_count": null,
      "outputs": [
        {
          "output_type": "stream",
          "name": "stdout",
          "text": [
            "40.45\n"
          ]
        }
      ]
    },
    {
      "cell_type": "markdown",
      "source": [
        "#Question 3: Grouped Data with Class Intervals\n",
        "##The following table shows the income distribution of 1000 households (in $1000s):\n",
        "##Income Range (Class Interval) Frequency\n",
        "#(0-20) 50\n",
        "#(20 -40) 120\n",
        "#40  60 200\n",
        "#60  80 300\n",
        "#80  100 220\n",
        "#100  120 70\n",
        "#120  140 40\n",
        "##• Use Python to calculate the median and mode for the grouped data.\n",
        "##• For mode, determine the modal class.\n"
      ],
      "metadata": {
        "id": "6SkhivtiGHMd"
      }
    },
    {
      "cell_type": "code",
      "source": [
        "Income_Range=[(0,20),(20,40),(40,60),(60,80),(80,100),(100,120),(120,140)]\n",
        "Frequency=[50,120,200,300,220,70,40]"
      ],
      "metadata": {
        "id": "_3GNYYjiGgI_"
      },
      "execution_count": null,
      "outputs": []
    },
    {
      "cell_type": "code",
      "source": [
        "midpoints=[(start+end)/2 for start,end in Income_Range]"
      ],
      "metadata": {
        "id": "v-J4QNzPHXb3"
      },
      "execution_count": null,
      "outputs": []
    },
    {
      "cell_type": "code",
      "source": [
        "sum_fx=sum(Frequency*midpoints for Frequency,midpoints in zip(Frequency,midpoints))"
      ],
      "metadata": {
        "id": "SOinSIKHHg1A"
      },
      "execution_count": null,
      "outputs": []
    },
    {
      "cell_type": "code",
      "source": [
        "mean=sum_fx/sum(Frequency)"
      ],
      "metadata": {
        "id": "z8m3DoAhHptk"
      },
      "execution_count": null,
      "outputs": []
    },
    {
      "cell_type": "code",
      "source": [
        "print(mean)"
      ],
      "metadata": {
        "colab": {
          "base_uri": "https://localhost:8080/"
        },
        "id": "ouhE2fJnHvNY",
        "outputId": "a86d75cc-0fdf-4919-8b94-cc144738f036"
      },
      "execution_count": null,
      "outputs": [
        {
          "output_type": "stream",
          "name": "stdout",
          "text": [
            "67.8\n"
          ]
        }
      ]
    }
  ]
}