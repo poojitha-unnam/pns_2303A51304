{
  "nbformat": 4,
  "nbformat_minor": 0,
  "metadata": {
    "colab": {
      "provenance": [],
      "authorship_tag": "ABX9TyOYi0/TOW9LR37A136qrOj5",
      "include_colab_link": true
    },
    "kernelspec": {
      "name": "python3",
      "display_name": "Python 3"
    },
    "language_info": {
      "name": "python"
    }
  },
  "cells": [
    {
      "cell_type": "markdown",
      "metadata": {
        "id": "view-in-github",
        "colab_type": "text"
      },
      "source": [
        "<a href=\"https://colab.research.google.com/github/poojitha-unnam/pns_2303A51304/blob/main/LAB_06_PNS.ipynb\" target=\"_parent\"><img src=\"https://colab.research.google.com/assets/colab-badge.svg\" alt=\"Open In Colab\"/></a>"
      ]
    },
    {
      "cell_type": "code",
      "execution_count": 6,
      "metadata": {
        "id": "CRrWNEEwQ1S_"
      },
      "outputs": [],
      "source": [
        "from scipy.stats import binom"
      ]
    },
    {
      "cell_type": "code",
      "source": [
        "# Given data\n",
        "N = 100  # Number of students\n",
        "p = 0.7  # Probability of passing"
      ],
      "metadata": {
        "id": "TP_M69wySx2w"
      },
      "execution_count": 2,
      "outputs": []
    },
    {
      "cell_type": "code",
      "source": [
        "# (i) Probability that exactly 60 students pass\n",
        "prob_60 = binom.pmf(60, N, p)\n",
        "print(f\"P(X = 60): {prob_60:.5f}\")"
      ],
      "metadata": {
        "colab": {
          "base_uri": "https://localhost:8080/"
        },
        "id": "gFhrKuF4SzRn",
        "outputId": "85bcbb66-a928-427a-9a9e-bc68a8caa896"
      },
      "execution_count": 3,
      "outputs": [
        {
          "output_type": "stream",
          "name": "stdout",
          "text": [
            "P(X = 60): 0.00849\n"
          ]
        }
      ]
    },
    {
      "cell_type": "code",
      "source": [
        "# (ii) Probability that at least 75 students pass\n",
        "prob_at_least_75 = 1 - binom.cdf(74, N, p)\n",
        "print(f\"P(X >= 75): {prob_at_least_75:.5f}\")"
      ],
      "metadata": {
        "colab": {
          "base_uri": "https://localhost:8080/"
        },
        "id": "60IJRpucS2Pt",
        "outputId": "3e9a3383-b98d-4a28-8a5a-1ae53851f52e"
      },
      "execution_count": 4,
      "outputs": [
        {
          "output_type": "stream",
          "name": "stdout",
          "text": [
            "P(X >= 75): 0.16313\n"
          ]
        }
      ]
    },
    {
      "cell_type": "code",
      "source": [
        "# (iii) Expected number of students passing\n",
        "expected_value = N * p\n",
        "print(f\"Expected number of students passing: {expected_value}\")"
      ],
      "metadata": {
        "colab": {
          "base_uri": "https://localhost:8080/"
        },
        "id": "U5a9Q0WCS5jc",
        "outputId": "7a4c0560-487c-46e3-a01e-411b1b29e88e"
      },
      "execution_count": 5,
      "outputs": [
        {
          "output_type": "stream",
          "name": "stdout",
          "text": [
            "Expected number of students passing: 70.0\n"
          ]
        }
      ]
    }
  ]
}